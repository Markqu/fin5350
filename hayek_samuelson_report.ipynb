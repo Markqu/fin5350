{
 "cells": [
  {
   "cell_type": "markdown",
   "metadata": {},
   "source": [
    "<h2>Hayek, The use of Knowledge in Society, Report</h2>\n",
    "\n",
    "<br>\n",
    "<p>This a great paper because it walks your mind through the explanation of how collective knowledge creates our economy.  Below I have taken out my favorite excerpts from this paper, and added my own thoughts.</p>\n",
    "\n",
    "<p style=\"color:navy\"><i><b>It is rather a problem of how to secure the best use of resources known to any of the members of society, for ends whose relative importance only these individuals know</i></p>\n",
    "\n",
    "<p>Hayek begins by laying the foundation for his main point- that the people with the best resources and knowledge to make economic decisions, are the people themselves.  He is essentially refuting the theory that a centralized body making economic decisions will not have all the available resources and knowledge to disseminate the best economic policies because they will never have the same knowledge and abilities as the man on the spot</p>\n",
    "\n",
    "<p style=\"color:navy\"><i><b>Planning in the specific sense in which the term is used in contemporary controversy necessarily means central planning-direction of the whole economic system according to one unified plan</i></p>\n",
    "\n",
    "<p>In this controversary Hayek mentions, he takes the side of decentralized economic planning and criticizes the idea of one unified plan.  Continuing his opening argument, he points out that decentralized planning is more fluid and able to account for macro and micro economic fluctuations. While centralized economic planning will never be flexible enough to do so.</p>\n",
    "\n",
    "<p style=\"color:navy\"><i><b>It follows from this that central planning based on statistical information by its nature cannot take direct account of these circumstances of time and place, and that the central planner will have to find some way or other in which the decisions depending on them can be left to the \"man on the spot.\" </i></p>\n",
    "\n",
    "<p>Hayek introduces the idea of the man on the spot.  Florida orange farmers are more acquainted with local weather patterns than the National Weather Service.  They need to be, because their livelihood depends on it.  Local knowledge coupled with experience brings economic decision making that is not reproducible by statistical analysis.  The necessity for man on the spot knowledge will always exist.</p>\n",
    "\n",
    "<p style=\"color:navy\"><i><b>We must solve it by some form of decentralization. But this answers only part of our problem. We need decentralization because only thus can we ensure that the knowledge of the particular circumstances of time and place will be promptly used. But the \"man on the spot\" cannot decide solely on the basis of his limited but intimate knowledge of the facts of his immediate surroundings</i></p>\n",
    "\n",
    "<p>Essentially, men on the spot are the best decision-makers for local econmic decisions and will always be better than a centralized econmomic decision making body.  I couldn't agree more with Hayek on this point!  In fact, I would go so far as to say the real strength of an economy is the strength of the knowledge and abilities of the men on the spot.  Prices contain all relevant information involved in the price itself.  Hayek's logic here is very strong in that sense.</p>\n",
    "\n"
   ]
  },
  {
   "cell_type": "markdown",
   "metadata": {
    "collapsed": true
   },
   "source": [
    "<h2>Samuelson, Proof the Properfly Anticipated Prices Fluctuate Randomly, Report</h2>\n",
    "\n",
    "<p>Samuelson asserts the idea that all information about a price, is contained within the price.  If someone has insider information about a stock price, he has to trade to use that information.  In trading, he is revealing his position regarding that stock and thus, in process, revealing his information.</p>\n",
    "\n",
    "<p>Samuelson asserts that because all information about a price was calculated in previous prices, and anticipated or known future information is contained in the current price, eseentially prices are uncorrelated. In words, prices follow a martingale, or a special type of random walk where there is no bias or drift, as stated in the following except...</p>\n",
    "\n",
    "<p style=\"color:navy\"><i><b>A Brownian walk, like the walk of a drunke sailor, wanders in-definetly far, listing with the wind.  Surely economic law tells us that the price of Wheat...cannot drift sky-high or ground-low.</p>\n",
    "\n",
    "<p style=\"color:navy\"><i><b>The market quotation Y(T,t) alread contains in itself all that can be known about the future and in that sense has discounted future contingencies as much as is humanly possible (or inhumanly possible within the axiom of the model).  the theorem does not impy that the sequence of Y's perform a Brownian motion.  It does not imply that deltaY(T,t) is statiscally independent...;it implies only that given knowledge of Y(T,t) the Pearsonian correlation coefficient between the above two delta's will be zero.  It is a source of comfort to the economist, rather thatn otherwise, that wheat prices shoudl not perform a Brownian random walk.</i></b></p>\n",
    "\n",
    "<p>Samuelson proves this mathematically, however essentially he is saying prices are not necessarily statistically independent.  They are independent in the sense that past prices were created with all available and anticipated knowledge at the time, and current prices are created with all available and anticipated knowledge at the current time.  Therefore, they are independent, or uncorrelated with each other because they were previously and are currently created with all available information.  I tend to agree.</p>\n",
    "\n",
    "\n",
    "\n",
    "\n",
    "\n",
    "\n",
    "\n",
    "\n",
    "\n",
    "\n",
    "\n",
    "\n",
    "\n",
    "\n",
    "\n",
    "\n",
    "\n"
   ]
  },
  {
   "cell_type": "code",
   "execution_count": null,
   "metadata": {
    "collapsed": true
   },
   "outputs": [],
   "source": []
  }
 ],
 "metadata": {
  "anaconda-cloud": {},
  "kernelspec": {
   "display_name": "Python [Root]",
   "language": "python",
   "name": "Python [Root]"
  },
  "language_info": {
   "codemirror_mode": {
    "name": "ipython",
    "version": 3
   },
   "file_extension": ".py",
   "mimetype": "text/x-python",
   "name": "python",
   "nbconvert_exporter": "python",
   "pygments_lexer": "ipython3",
   "version": "3.5.2"
  }
 },
 "nbformat": 4,
 "nbformat_minor": 0
}

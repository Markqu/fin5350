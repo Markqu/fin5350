{
 "cells": [
  {
   "cell_type": "code",
   "execution_count": 4,
   "metadata": {
    "collapsed": false
   },
   "outputs": [
    {
     "name": "stdout",
     "output_type": "stream",
     "text": [
      "not possibles:  [1, 2, 3, 4, 5, 7, 8, 10, 11, 13, 14, 16, 17, 19, 22, 23, 25, 28, 31, 34, 37, 43]\n",
      "max not possible:  43\n"
     ]
    }
   ],
   "source": [
    "def main():\n",
    "    poss,nposs,num,ct=[6,9,20],[],1,0\n",
    "    while (ct<6):\n",
    "        tmp=[]\n",
    "        for p in poss: \n",
    "            if(num%p==0): \n",
    "                for p2 in [6,9,20]: tmp.append(num+p2)\n",
    "        if(tmp.__len__()>0): \n",
    "            poss = poss + tmp\n",
    "            ct+=1\n",
    "        else:\n",
    "            nposs.append(num)\n",
    "            ct=0\n",
    "        num+=1\n",
    "    print (\"not possibles: \",nposs)\n",
    "    print (\"max not possible: \",max(nposs))\n",
    "\n",
    "if __name__==\"__main__\":main()"
   ]
  },
  {
   "cell_type": "code",
   "execution_count": 1,
   "metadata": {
    "collapsed": false
   },
   "outputs": [
    {
     "name": "stdout",
     "output_type": "stream",
     "text": [
      "Guess a number between 1 and 100!!!\n",
      "Is your number:  50 ?\n",
      "Please enter 'h', 'l', or 'c'(higher, lower, correct)\n",
      "l\n",
      "response:  l\n",
      "Is your number:  25 ?\n",
      "Please enter 'h', 'l', or 'c'(higher, lower, correct)\n",
      "l\n",
      "response:  l\n",
      "Is your number:  13 ?\n",
      "Please enter 'h', 'l', or 'c'(higher, lower, correct)\n",
      "l\n",
      "response:  l\n",
      "Is your number:  7 ?\n",
      "Please enter 'h', 'l', or 'c'(higher, lower, correct)\n",
      "l\n",
      "response:  l\n",
      "Is your number:  4 ?\n",
      "Please enter 'h', 'l', or 'c'(higher, lower, correct)\n",
      "l\n",
      "response:  l\n",
      "Is your number:  2 ?\n",
      "Please enter 'h', 'l', or 'c'(higher, lower, correct)\n",
      "l\n",
      "response:  l\n",
      "Is your number:  1 ?\n",
      "Please enter 'h', 'l', or 'c'(higher, lower, correct)\n",
      "l\n",
      "response:  l\n",
      "Is your number:  1 ?\n",
      "Please enter 'h', 'l', or 'c'(higher, lower, correct)\n",
      "c\n",
      "response:  c\n",
      "Your number is:  1 and was guessed in  7  tries!!!\n",
      "You are a big deal!!!!\n"
     ]
    }
   ],
   "source": [
    "def header():\n",
    "    print(\"Guess a number between 1 and 100!!!\")\n",
    "    \n",
    "def footer(guess,tries):\n",
    "    print(\"Your number is: \",guess,\"and was guessed in \", tries, \" tries!!!\")\n",
    "    print(\"You are a big deal!!!!\")\n",
    "    \n",
    "def run(high,low):\n",
    "    guess = (high+low)//2\n",
    "    answer=101\n",
    "    tries=0\n",
    "    while (guess!=answer):\n",
    "        print(\"Is your number: \",guess,\"?\")\n",
    "        try:\n",
    "            print(\"Please enter 'h', 'l', or 'c'(higher, lower, correct)\")\n",
    "            response=input()\n",
    "            print(\"response: \",response)\n",
    "            if(response=='h'):\n",
    "                if(guess==99):return 100,tries#end case\n",
    "                print(\"ok higher\")\n",
    "                low=guess\n",
    "                guess=(high+low)//2\n",
    "                print(\"high,low,guess: \",high,low,guess)\n",
    "            elif(response=='l'):\n",
    "                high=guess\n",
    "                guess=(high+low)//2\n",
    "            elif(response=='c'):\n",
    "                return guess,tries\n",
    "            else:\n",
    "                print(\"Bad response!\")\n",
    "        except: print(\"Bad response!!\")\n",
    "        tries+=1\n",
    "            \n",
    "def main():\n",
    "    header()\n",
    "    guess,tries=run(100,1)\n",
    "    footer(guess,tries)\n",
    "    \n",
    "if __name__==\"__main__\":main()"
   ]
  },
  {
   "cell_type": "code",
   "execution_count": null,
   "metadata": {
    "collapsed": true
   },
   "outputs": [],
   "source": []
  }
 ],
 "metadata": {
  "kernelspec": {
   "display_name": "Python [Root]",
   "language": "python",
   "name": "Python [Root]"
  },
  "language_info": {
   "codemirror_mode": {
    "name": "ipython",
    "version": 3
   },
   "file_extension": ".py",
   "mimetype": "text/x-python",
   "name": "python",
   "nbconvert_exporter": "python",
   "pygments_lexer": "ipython3",
   "version": "3.5.2"
  }
 },
 "nbformat": 4,
 "nbformat_minor": 0
}
